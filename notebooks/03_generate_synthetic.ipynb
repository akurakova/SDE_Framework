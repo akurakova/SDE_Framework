{
 "cells": [
  {
   "cell_type": "markdown",
   "id": "ae2bd148",
   "metadata": {},
   "source": [
    "# Synthetic Data Generation: All Models\n",
    "This notebook loads train data and runs each generator, saving synthetic datasets and logging stats."
   ]
  },
  {
   "cell_type": "code",
   "execution_count": 4,
   "id": "78214802-280c-40df-8953-13eefcad4ffe",
   "metadata": {},
   "outputs": [
    {
     "name": "stdout",
     "output_type": "stream",
     "text": [
      "Collecting sdv\n",
      "  Downloading sdv-1.22.1-py3-none-any.whl.metadata (14 kB)\n",
      "Collecting boto3<2.0.0,>=1.28 (from sdv)\n",
      "  Downloading boto3-1.38.36-py3-none-any.whl.metadata (6.6 kB)\n",
      "Collecting botocore<2.0.0,>=1.31 (from sdv)\n",
      "  Downloading botocore-1.38.36-py3-none-any.whl.metadata (5.7 kB)\n",
      "Requirement already satisfied: cloudpickle>=2.1.0 in /opt/conda/lib/python3.11/site-packages (from sdv) (3.0.0)\n",
      "Collecting graphviz>=0.13.2 (from sdv)\n",
      "  Using cached graphviz-0.20.3-py3-none-any.whl.metadata (12 kB)\n",
      "Requirement already satisfied: numpy>=1.24.0 in /opt/conda/lib/python3.11/site-packages (from sdv) (1.26.4)\n",
      "Requirement already satisfied: pandas>=1.5.0 in /opt/conda/lib/python3.11/site-packages (from sdv) (2.2.2)\n",
      "Requirement already satisfied: tqdm>=4.29 in /opt/conda/lib/python3.11/site-packages (from sdv) (4.66.4)\n",
      "Collecting copulas>=0.12.1 (from sdv)\n",
      "  Using cached copulas-0.12.2-py3-none-any.whl.metadata (9.4 kB)\n",
      "Collecting ctgan>=0.11.0 (from sdv)\n",
      "  Using cached ctgan-0.11.0-py3-none-any.whl.metadata (10 kB)\n",
      "Collecting deepecho>=0.7.0 (from sdv)\n",
      "  Using cached deepecho-0.7.0-py3-none-any.whl.metadata (10 kB)\n",
      "Collecting rdt>=1.17.0 (from sdv)\n",
      "  Downloading rdt-1.17.0-py3-none-any.whl.metadata (10 kB)\n",
      "Collecting sdmetrics>=0.21.0 (from sdv)\n",
      "  Downloading sdmetrics-0.21.0-py3-none-any.whl.metadata (9.4 kB)\n",
      "Requirement already satisfied: platformdirs>=4.0 in /opt/conda/lib/python3.11/site-packages (from sdv) (4.2.2)\n",
      "Requirement already satisfied: pyyaml>=6.0.1 in /opt/conda/lib/python3.11/site-packages (from sdv) (6.0.1)\n",
      "Collecting jmespath<2.0.0,>=0.7.1 (from boto3<2.0.0,>=1.28->sdv)\n",
      "  Using cached jmespath-1.0.1-py3-none-any.whl.metadata (7.6 kB)\n",
      "Collecting s3transfer<0.14.0,>=0.13.0 (from boto3<2.0.0,>=1.28->sdv)\n",
      "  Downloading s3transfer-0.13.0-py3-none-any.whl.metadata (1.7 kB)\n",
      "Requirement already satisfied: python-dateutil<3.0.0,>=2.1 in /opt/conda/lib/python3.11/site-packages (from botocore<2.0.0,>=1.31->sdv) (2.9.0)\n",
      "Requirement already satisfied: urllib3!=2.2.0,<3,>=1.25.4 in /opt/conda/lib/python3.11/site-packages (from botocore<2.0.0,>=1.31->sdv) (2.2.2)\n",
      "Collecting plotly>=5.10.0 (from copulas>=0.12.1->sdv)\n",
      "  Downloading plotly-6.1.2-py3-none-any.whl.metadata (6.9 kB)\n",
      "Requirement already satisfied: scipy>=1.9.2 in /opt/conda/lib/python3.11/site-packages (from copulas>=0.12.1->sdv) (1.14.0)\n",
      "Collecting torch>=2.0.0 (from ctgan>=0.11.0->sdv)\n",
      "  Downloading torch-2.7.1-cp311-cp311-manylinux_2_28_x86_64.whl.metadata (29 kB)\n",
      "Requirement already satisfied: pytz>=2020.1 in /opt/conda/lib/python3.11/site-packages (from pandas>=1.5.0->sdv) (2024.1)\n",
      "Requirement already satisfied: tzdata>=2022.7 in /opt/conda/lib/python3.11/site-packages (from pandas>=1.5.0->sdv) (2024.1)\n",
      "Requirement already satisfied: scikit-learn>=1.1.3 in /opt/conda/lib/python3.11/site-packages (from rdt>=1.17.0->sdv) (1.5.1)\n",
      "Collecting Faker>=17 (from rdt>=1.17.0->sdv)\n",
      "  Downloading faker-37.4.0-py3-none-any.whl.metadata (15 kB)\n",
      "Collecting narwhals>=1.15.1 (from plotly>=5.10.0->copulas>=0.12.1->sdv)\n",
      "  Downloading narwhals-1.42.1-py3-none-any.whl.metadata (11 kB)\n",
      "Requirement already satisfied: packaging in /opt/conda/lib/python3.11/site-packages (from plotly>=5.10.0->copulas>=0.12.1->sdv) (24.1)\n",
      "Requirement already satisfied: six>=1.5 in /opt/conda/lib/python3.11/site-packages (from python-dateutil<3.0.0,>=2.1->botocore<2.0.0,>=1.31->sdv) (1.16.0)\n",
      "Requirement already satisfied: joblib>=1.2.0 in /opt/conda/lib/python3.11/site-packages (from scikit-learn>=1.1.3->rdt>=1.17.0->sdv) (1.4.2)\n",
      "Requirement already satisfied: threadpoolctl>=3.1.0 in /opt/conda/lib/python3.11/site-packages (from scikit-learn>=1.1.3->rdt>=1.17.0->sdv) (3.5.0)\n",
      "Collecting filelock (from torch>=2.0.0->ctgan>=0.11.0->sdv)\n",
      "  Using cached filelock-3.18.0-py3-none-any.whl.metadata (2.9 kB)\n",
      "Requirement already satisfied: typing-extensions>=4.10.0 in /opt/conda/lib/python3.11/site-packages (from torch>=2.0.0->ctgan>=0.11.0->sdv) (4.12.2)\n",
      "Collecting sympy>=1.13.3 (from torch>=2.0.0->ctgan>=0.11.0->sdv)\n",
      "  Using cached sympy-1.14.0-py3-none-any.whl.metadata (12 kB)\n",
      "Requirement already satisfied: networkx in /opt/conda/lib/python3.11/site-packages (from torch>=2.0.0->ctgan>=0.11.0->sdv) (3.3)\n",
      "Requirement already satisfied: jinja2 in /opt/conda/lib/python3.11/site-packages (from torch>=2.0.0->ctgan>=0.11.0->sdv) (3.1.4)\n",
      "Requirement already satisfied: fsspec in /opt/conda/lib/python3.11/site-packages (from torch>=2.0.0->ctgan>=0.11.0->sdv) (2024.6.1)\n",
      "Collecting nvidia-cuda-nvrtc-cu12==12.6.77 (from torch>=2.0.0->ctgan>=0.11.0->sdv)\n",
      "  Using cached nvidia_cuda_nvrtc_cu12-12.6.77-py3-none-manylinux2014_x86_64.whl.metadata (1.5 kB)\n",
      "Collecting nvidia-cuda-runtime-cu12==12.6.77 (from torch>=2.0.0->ctgan>=0.11.0->sdv)\n",
      "  Using cached nvidia_cuda_runtime_cu12-12.6.77-py3-none-manylinux2014_x86_64.manylinux_2_17_x86_64.whl.metadata (1.5 kB)\n",
      "Collecting nvidia-cuda-cupti-cu12==12.6.80 (from torch>=2.0.0->ctgan>=0.11.0->sdv)\n",
      "  Using cached nvidia_cuda_cupti_cu12-12.6.80-py3-none-manylinux2014_x86_64.manylinux_2_17_x86_64.whl.metadata (1.6 kB)\n",
      "Collecting nvidia-cudnn-cu12==9.5.1.17 (from torch>=2.0.0->ctgan>=0.11.0->sdv)\n",
      "  Using cached nvidia_cudnn_cu12-9.5.1.17-py3-none-manylinux_2_28_x86_64.whl.metadata (1.6 kB)\n",
      "Collecting nvidia-cublas-cu12==12.6.4.1 (from torch>=2.0.0->ctgan>=0.11.0->sdv)\n",
      "  Using cached nvidia_cublas_cu12-12.6.4.1-py3-none-manylinux2014_x86_64.manylinux_2_17_x86_64.whl.metadata (1.5 kB)\n",
      "Collecting nvidia-cufft-cu12==11.3.0.4 (from torch>=2.0.0->ctgan>=0.11.0->sdv)\n",
      "  Using cached nvidia_cufft_cu12-11.3.0.4-py3-none-manylinux2014_x86_64.manylinux_2_17_x86_64.whl.metadata (1.5 kB)\n",
      "Collecting nvidia-curand-cu12==10.3.7.77 (from torch>=2.0.0->ctgan>=0.11.0->sdv)\n",
      "  Using cached nvidia_curand_cu12-10.3.7.77-py3-none-manylinux2014_x86_64.manylinux_2_17_x86_64.whl.metadata (1.5 kB)\n",
      "Collecting nvidia-cusolver-cu12==11.7.1.2 (from torch>=2.0.0->ctgan>=0.11.0->sdv)\n",
      "  Using cached nvidia_cusolver_cu12-11.7.1.2-py3-none-manylinux2014_x86_64.manylinux_2_17_x86_64.whl.metadata (1.6 kB)\n",
      "Collecting nvidia-cusparse-cu12==12.5.4.2 (from torch>=2.0.0->ctgan>=0.11.0->sdv)\n",
      "  Using cached nvidia_cusparse_cu12-12.5.4.2-py3-none-manylinux2014_x86_64.manylinux_2_17_x86_64.whl.metadata (1.6 kB)\n",
      "Collecting nvidia-cusparselt-cu12==0.6.3 (from torch>=2.0.0->ctgan>=0.11.0->sdv)\n",
      "  Using cached nvidia_cusparselt_cu12-0.6.3-py3-none-manylinux2014_x86_64.whl.metadata (6.8 kB)\n",
      "Collecting nvidia-nccl-cu12==2.26.2 (from torch>=2.0.0->ctgan>=0.11.0->sdv)\n",
      "  Using cached nvidia_nccl_cu12-2.26.2-py3-none-manylinux2014_x86_64.manylinux_2_17_x86_64.whl.metadata (2.0 kB)\n",
      "Collecting nvidia-nvtx-cu12==12.6.77 (from torch>=2.0.0->ctgan>=0.11.0->sdv)\n",
      "  Using cached nvidia_nvtx_cu12-12.6.77-py3-none-manylinux2014_x86_64.manylinux_2_17_x86_64.whl.metadata (1.6 kB)\n",
      "Collecting nvidia-nvjitlink-cu12==12.6.85 (from torch>=2.0.0->ctgan>=0.11.0->sdv)\n",
      "  Using cached nvidia_nvjitlink_cu12-12.6.85-py3-none-manylinux2010_x86_64.manylinux_2_12_x86_64.whl.metadata (1.5 kB)\n",
      "Collecting nvidia-cufile-cu12==1.11.1.6 (from torch>=2.0.0->ctgan>=0.11.0->sdv)\n",
      "  Using cached nvidia_cufile_cu12-1.11.1.6-py3-none-manylinux2014_x86_64.manylinux_2_17_x86_64.whl.metadata (1.5 kB)\n",
      "Collecting triton==3.3.1 (from torch>=2.0.0->ctgan>=0.11.0->sdv)\n",
      "  Downloading triton-3.3.1-cp311-cp311-manylinux_2_27_x86_64.manylinux_2_28_x86_64.whl.metadata (1.5 kB)\n",
      "Requirement already satisfied: setuptools>=40.8.0 in /opt/conda/lib/python3.11/site-packages (from triton==3.3.1->torch>=2.0.0->ctgan>=0.11.0->sdv) (71.0.4)\n",
      "Requirement already satisfied: mpmath<1.4,>=1.1.0 in /opt/conda/lib/python3.11/site-packages (from sympy>=1.13.3->torch>=2.0.0->ctgan>=0.11.0->sdv) (1.3.0)\n",
      "Requirement already satisfied: MarkupSafe>=2.0 in /opt/conda/lib/python3.11/site-packages (from jinja2->torch>=2.0.0->ctgan>=0.11.0->sdv) (2.1.5)\n",
      "Downloading sdv-1.22.1-py3-none-any.whl (180 kB)\n",
      "\u001b[2K   \u001b[90m━━━━━━━━━━━━━━━━━━━━━━━━━━━━━━━━━━━━━━━\u001b[0m \u001b[32m180.2/180.2 kB\u001b[0m \u001b[31m988.8 kB/s\u001b[0m eta \u001b[36m0:00:00\u001b[0ma \u001b[36m0:00:01\u001b[0m\n",
      "\u001b[?25hDownloading boto3-1.38.36-py3-none-any.whl (139 kB)\n",
      "\u001b[2K   \u001b[90m━━━━━━━━━━━━━━━━━━━━━━━━━━━━━━━━━━━━━━━\u001b[0m \u001b[32m139.9/139.9 kB\u001b[0m \u001b[31m842.6 kB/s\u001b[0m eta \u001b[36m0:00:00\u001b[0ma \u001b[36m0:00:01\u001b[0m\n",
      "\u001b[?25hDownloading botocore-1.38.36-py3-none-any.whl (13.6 MB)\n",
      "\u001b[2K   \u001b[90m━━━━━━━━━━━━━━━━━━━━━━━━━━━━━━━━━━━━━━━━\u001b[0m \u001b[32m13.6/13.6 MB\u001b[0m \u001b[31m54.3 MB/s\u001b[0m eta \u001b[36m0:00:00\u001b[0m:00:01\u001b[0m00:01\u001b[0m\n",
      "\u001b[?25hUsing cached copulas-0.12.2-py3-none-any.whl (52 kB)\n",
      "Using cached ctgan-0.11.0-py3-none-any.whl (24 kB)\n",
      "Using cached deepecho-0.7.0-py3-none-any.whl (27 kB)\n",
      "Using cached graphviz-0.20.3-py3-none-any.whl (47 kB)\n",
      "Downloading rdt-1.17.0-py3-none-any.whl (73 kB)\n",
      "\u001b[2K   \u001b[90m━━━━━━━━━━━━━━━━━━━━━━━━━━━━━━━━━━━━━━━━\u001b[0m \u001b[32m73.8/73.8 kB\u001b[0m \u001b[31m3.1 MB/s\u001b[0m eta \u001b[36m0:00:00\u001b[0m\n",
      "\u001b[?25hDownloading sdmetrics-0.21.0-py3-none-any.whl (193 kB)\n",
      "\u001b[2K   \u001b[90m━━━━━━━━━━━━━━━━━━━━━━━━━━━━━━━━━━━━━━━━\u001b[0m \u001b[32m193.5/193.5 kB\u001b[0m \u001b[31m8.0 MB/s\u001b[0m eta \u001b[36m0:00:00\u001b[0m\n",
      "\u001b[?25hDownloading faker-37.4.0-py3-none-any.whl (1.9 MB)\n",
      "\u001b[2K   \u001b[90m━━━━━━━━━━━━━━━━━━━━━━━━━━━━━━━━━━━━━━━━\u001b[0m \u001b[32m1.9/1.9 MB\u001b[0m \u001b[31m33.5 MB/s\u001b[0m eta \u001b[36m0:00:00\u001b[0m:00:01\u001b[0m\n",
      "\u001b[?25hUsing cached jmespath-1.0.1-py3-none-any.whl (20 kB)\n",
      "Downloading plotly-6.1.2-py3-none-any.whl (16.3 MB)\n",
      "\u001b[2K   \u001b[90m━━━━━━━━━━━━━━━━━━━━━━━━━━━━━━━━━━━━━━━━\u001b[0m \u001b[32m16.3/16.3 MB\u001b[0m \u001b[31m83.6 MB/s\u001b[0m eta \u001b[36m0:00:00\u001b[0m:00:01\u001b[0m00:01\u001b[0m\n",
      "\u001b[?25hDownloading s3transfer-0.13.0-py3-none-any.whl (85 kB)\n",
      "\u001b[2K   \u001b[90m━━━━━━━━━━━━━━━━━━━━━━━━━━━━━━━━━━━━━━━━\u001b[0m \u001b[32m85.2/85.2 kB\u001b[0m \u001b[31m4.3 MB/s\u001b[0m eta \u001b[36m0:00:00\u001b[0m\n",
      "\u001b[?25hDownloading torch-2.7.1-cp311-cp311-manylinux_2_28_x86_64.whl (821.2 MB)\n",
      "\u001b[2K   \u001b[90m━━━━━━━━━━━━━━━━━━━━━━━━━━━━━━━━━━━━━━━━\u001b[0m \u001b[32m821.2/821.2 MB\u001b[0m \u001b[31m5.0 MB/s\u001b[0m eta \u001b[36m0:00:00\u001b[0m:00:01\u001b[0m00:01\u001b[0m\n",
      "\u001b[?25hUsing cached nvidia_cublas_cu12-12.6.4.1-py3-none-manylinux2014_x86_64.manylinux_2_17_x86_64.whl (393.1 MB)\n",
      "Using cached nvidia_cuda_cupti_cu12-12.6.80-py3-none-manylinux2014_x86_64.manylinux_2_17_x86_64.whl (8.9 MB)\n",
      "Using cached nvidia_cuda_nvrtc_cu12-12.6.77-py3-none-manylinux2014_x86_64.whl (23.7 MB)\n",
      "Using cached nvidia_cuda_runtime_cu12-12.6.77-py3-none-manylinux2014_x86_64.manylinux_2_17_x86_64.whl (897 kB)\n",
      "Using cached nvidia_cudnn_cu12-9.5.1.17-py3-none-manylinux_2_28_x86_64.whl (571.0 MB)\n",
      "Using cached nvidia_cufft_cu12-11.3.0.4-py3-none-manylinux2014_x86_64.manylinux_2_17_x86_64.whl (200.2 MB)\n",
      "Using cached nvidia_cufile_cu12-1.11.1.6-py3-none-manylinux2014_x86_64.manylinux_2_17_x86_64.whl (1.1 MB)\n",
      "Using cached nvidia_curand_cu12-10.3.7.77-py3-none-manylinux2014_x86_64.manylinux_2_17_x86_64.whl (56.3 MB)\n",
      "Using cached nvidia_cusolver_cu12-11.7.1.2-py3-none-manylinux2014_x86_64.manylinux_2_17_x86_64.whl (158.2 MB)\n",
      "Using cached nvidia_cusparse_cu12-12.5.4.2-py3-none-manylinux2014_x86_64.manylinux_2_17_x86_64.whl (216.6 MB)\n",
      "Using cached nvidia_cusparselt_cu12-0.6.3-py3-none-manylinux2014_x86_64.whl (156.8 MB)\n",
      "Using cached nvidia_nccl_cu12-2.26.2-py3-none-manylinux2014_x86_64.manylinux_2_17_x86_64.whl (201.3 MB)\n",
      "Using cached nvidia_nvjitlink_cu12-12.6.85-py3-none-manylinux2010_x86_64.manylinux_2_12_x86_64.whl (19.7 MB)\n",
      "Using cached nvidia_nvtx_cu12-12.6.77-py3-none-manylinux2014_x86_64.manylinux_2_17_x86_64.whl (89 kB)\n",
      "Downloading triton-3.3.1-cp311-cp311-manylinux_2_27_x86_64.manylinux_2_28_x86_64.whl (155.7 MB)\n",
      "\u001b[2K   \u001b[90m━━━━━━━━━━━━━━━━━━━━━━━━━━━━━━━━━━━━━━━━\u001b[0m \u001b[32m155.7/155.7 MB\u001b[0m \u001b[31m15.2 MB/s\u001b[0m eta \u001b[36m0:00:00\u001b[0m00:01\u001b[0m00:01\u001b[0m\n",
      "\u001b[?25hDownloading narwhals-1.42.1-py3-none-any.whl (359 kB)\n",
      "\u001b[2K   \u001b[90m━━━━━━━━━━━━━━━━━━━━━━━━━━━━━━━━━━━━━━━━\u001b[0m \u001b[32m359.9/359.9 kB\u001b[0m \u001b[31m20.5 MB/s\u001b[0m eta \u001b[36m0:00:00\u001b[0m\n",
      "\u001b[?25hUsing cached sympy-1.14.0-py3-none-any.whl (6.3 MB)\n",
      "Using cached filelock-3.18.0-py3-none-any.whl (16 kB)\n",
      "Installing collected packages: nvidia-cusparselt-cu12, triton, sympy, nvidia-nvtx-cu12, nvidia-nvjitlink-cu12, nvidia-nccl-cu12, nvidia-curand-cu12, nvidia-cufile-cu12, nvidia-cuda-runtime-cu12, nvidia-cuda-nvrtc-cu12, nvidia-cuda-cupti-cu12, nvidia-cublas-cu12, narwhals, jmespath, graphviz, filelock, Faker, plotly, nvidia-cusparse-cu12, nvidia-cufft-cu12, nvidia-cudnn-cu12, botocore, s3transfer, rdt, nvidia-cusolver-cu12, copulas, torch, sdmetrics, boto3, deepecho, ctgan, sdv\n",
      "  Attempting uninstall: sympy\n",
      "    Found existing installation: sympy 1.13.0\n",
      "    Uninstalling sympy-1.13.0:\n",
      "      Successfully uninstalled sympy-1.13.0\n",
      "Successfully installed Faker-37.4.0 boto3-1.38.36 botocore-1.38.36 copulas-0.12.2 ctgan-0.11.0 deepecho-0.7.0 filelock-3.18.0 graphviz-0.20.3 jmespath-1.0.1 narwhals-1.42.1 nvidia-cublas-cu12-12.6.4.1 nvidia-cuda-cupti-cu12-12.6.80 nvidia-cuda-nvrtc-cu12-12.6.77 nvidia-cuda-runtime-cu12-12.6.77 nvidia-cudnn-cu12-9.5.1.17 nvidia-cufft-cu12-11.3.0.4 nvidia-cufile-cu12-1.11.1.6 nvidia-curand-cu12-10.3.7.77 nvidia-cusolver-cu12-11.7.1.2 nvidia-cusparse-cu12-12.5.4.2 nvidia-cusparselt-cu12-0.6.3 nvidia-nccl-cu12-2.26.2 nvidia-nvjitlink-cu12-12.6.85 nvidia-nvtx-cu12-12.6.77 plotly-6.1.2 rdt-1.17.0 s3transfer-0.13.0 sdmetrics-0.21.0 sdv-1.22.1 sympy-1.14.0 torch-2.7.1 triton-3.3.1\n"
     ]
    }
   ],
   "source": [
    "!pip install sdv"
   ]
  },
  {
   "cell_type": "code",
   "execution_count": null,
   "id": "8c9317d7",
   "metadata": {},
   "outputs": [
    {
     "name": "stderr",
     "output_type": "stream",
     "text": [
      "Exception ignored in: <bound method IPythonKernel._clean_thread_parent_frames of <ipykernel.ipkernel.IPythonKernel object at 0x7f277ff05f50>>\n",
      "Traceback (most recent call last):\n",
      "  File \"/home/jovyan/paper-realtab/lib/python3.11/site-packages/ipykernel/ipkernel.py\", line 775, in _clean_thread_parent_frames\n",
      "    def _clean_thread_parent_frames(\n",
      "\n",
      "KeyboardInterrupt: \n"
     ]
    }
   ],
   "source": [
    "import sys\n",
    "import os\n",
    "sys.path.append(os.path.abspath(\"..\")) \n",
    "import pandas as pd\n",
    "from pathlib import Path\n",
    "from src.generators.tvae_generator import TVAESynthesizerWrapper\n",
    "from src.generators.ctgan_generator import CTGANSynthesizerWrapper\n",
    "from src.generators.ctabgan_generator import CTABGANSynthesizerWrapper\n",
    "from src.generators.great_generator import GREATSynthesizerWrapper\n",
    "from src.generators.rtf_generator import RTFGeneratorWrapper\n"
   ]
  },
  {
   "cell_type": "code",
   "execution_count": 13,
   "id": "3acb0f0f",
   "metadata": {},
   "outputs": [],
   "source": [
    "# Load preprocessed training data\n",
    "df = pd.read_csv(\"../data/processed/cirrhosis_train.csv\")\n",
    "dataset_name = \"cirrhosis\""
   ]
  },
  {
   "cell_type": "code",
   "execution_count": 14,
   "id": "67994025",
   "metadata": {},
   "outputs": [],
   "source": [
    "# Output log file\n",
    "log_path = Path(\"../results/logs/synthetic_generation_log.csv\")\n",
    "log_path.parent.mkdir(parents=True, exist_ok=True)"
   ]
  },
  {
   "cell_type": "code",
   "execution_count": 16,
   "id": "4856f00d",
   "metadata": {},
   "outputs": [],
   "source": [
    "# Define list of generators\n",
    "generators = {\n",
    "    \"tvae\": TVAESynthesizerWrapper(output_dir=\"../data/synthetic/tvae\"),\n",
    "    \"ctgan\": CTGANSynthesizerWrapper(output_dir=\"../data/synthetic/ctgan\"),\n",
    "    \"ctabgan\": lambda: CTABGANSynthesizerWrapper(output_dir=\"../data/synthetic/ctabgan\", num_experiments=1),\n",
    "    \"great\": GREATSynthesizerWrapper(output_dir=\"../data/synthetic/great\"),\n",
    "    \"rtf\": RTFGeneratorWrapper(output_dir=\"../data/synthetic/rtf\")\n",
    "    \n",
    "}"
   ]
  },
  {
   "cell_type": "code",
   "execution_count": 17,
   "id": "bfeaac73-9d18-4d56-9fea-ca3b60bfdef7",
   "metadata": {},
   "outputs": [],
   "source": [
    "# Defining CTABGAN config separately\n",
    "ctabgan_configs = {\n",
    "    \"diabetes\": {\n",
    "        \"raw_csv_path\": \"../data/processed/diabetes_train.csv\",\n",
    "        \"categorical_columns\": ['gender', 'hypertension', 'heart_disease', 'smoking_history', 'diabetes'],\n",
    "        \"log_columns\": [],\n",
    "        \"mixed_columns\": {},\n",
    "        \"general_columns\": ['bmi', 'HbA1c_level'],\n",
    "        \"non_categorical_columns\": [],\n",
    "        \"integer_columns\": ['age', 'blood_glucose_level'],\n",
    "        \"problem_type\": {\"Classification\": 'diabetes'}\n",
    "    },\n",
    "    \"stroke\": {\n",
    "        \"raw_csv_path\": \"../data/processed/stroke_train.csv\",\n",
    "        \"categorical_columns\": ['gender', 'hypertension', 'heart_disease', 'ever_married', 'work_type', 'Residence_type', 'smoking_status', 'stroke'],\n",
    "        \"log_columns\": [],\n",
    "        \"mixed_columns\": {},\n",
    "        \"general_columns\": ['bmi'],\n",
    "        \"non_categorical_columns\": [],\n",
    "        \"integer_columns\": ['age', 'avg_glucose_level'],\n",
    "        \"problem_type\": {\"Classification\": 'stroke'}\n",
    "    },\n",
    "    \"cirrhosis\": {\n",
    "        \"raw_csv_path\": \"../data/processed/cirrhosis_train.csv\",\n",
    "        \"categorical_columns\": ['Sex', 'Ascites', 'Hepatomegaly', 'Spiders', 'Edema', 'Drug', 'Status', 'Stage'],\n",
    "        \"log_columns\": [],\n",
    "        \"mixed_columns\": {},\n",
    "        \"general_columns\": ['Cholesterol', 'Albumin', 'Copper', 'Alk_Phos', 'SGOT', 'Tryglicerides', 'Platelets', 'Prothrombin'],\n",
    "        \"non_categorical_columns\": [],\n",
    "        \"integer_columns\": ['N_Days', 'Age'],\n",
    "        \"problem_type\": {\"Classification\": 'Status'}\n",
    "    }\n",
    "}\n"
   ]
  },
  {
   "cell_type": "code",
   "execution_count": 18,
   "id": "de45344f",
   "metadata": {},
   "outputs": [],
   "source": [
    "# Initialize logs\n",
    "log_rows = []"
   ]
  },
  {
   "cell_type": "code",
   "execution_count": 19,
   "id": "1e3c6156",
   "metadata": {},
   "outputs": [
    {
     "name": "stdout",
     "output_type": "stream",
     "text": [
      " Generating with TVAE\n",
      "Detecting metadata from input dataframe...\n",
      " Synthetic data saved to: ../data/synthetic/tvae/cirrhosis_tvae.csv\n",
      " Execution Time: 7.86 seconds\n",
      " Peak Memory Usage: 1.18 MB\n",
      " Generating with CTGAN\n",
      "Detecting metadata from input dataframe...\n",
      "Initializing CTGAN synthesizer...\n",
      "Starting model training...\n",
      "Training complete.\n",
      "Generating synthetic data...\n",
      "Synthetic data saved to: ../data/synthetic/ctgan/cirrhosis_ctgan.csv\n",
      "Execution time: 13.96 seconds\n",
      "Peak memory usage: 1.21 MB\n",
      " Generating with CTABGAN\n",
      "Initializing CTABGAN synthesizer...\n",
      "Running experiment 1/1...\n"
     ]
    },
    {
     "name": "stderr",
     "output_type": "stream",
     "text": [
      "100%|██████████| 150/150 [00:32<00:00,  4.55it/s]\n"
     ]
    },
    {
     "name": "stdout",
     "output_type": "stream",
     "text": [
      "Finished training in 33.427955865859985  seconds.\n",
      "Saved: ../data/synthetic/ctabgan/cirrhosis_ctabgan_0.csv\n",
      "Training time: 33.43 seconds\n",
      "Peak memory: 0.67 MB\n",
      " Generating with GREAT\n",
      "Initializing GReaT synthesizer...\n",
      "Starting training...\n"
     ]
    },
    {
     "name": "stderr",
     "output_type": "stream",
     "text": [
      "You're using a GPT2TokenizerFast tokenizer. Please note that with a fast tokenizer, using the `__call__` method is faster than using a method to encode the text followed by a call to the `pad` method to get a padded encoding.\n"
     ]
    },
    {
     "data": {
      "text/html": [
       "\n",
       "    <div>\n",
       "      \n",
       "      <progress value='400' max='400' style='width:300px; height:20px; vertical-align: middle;'></progress>\n",
       "      [400/400 02:37, Epoch 100/100]\n",
       "    </div>\n",
       "    <table border=\"1\" class=\"dataframe\">\n",
       "  <thead>\n",
       " <tr style=\"text-align: left;\">\n",
       "      <th>Step</th>\n",
       "      <th>Training Loss</th>\n",
       "    </tr>\n",
       "  </thead>\n",
       "  <tbody>\n",
       "  </tbody>\n",
       "</table><p>"
      ],
      "text/plain": [
       "<IPython.core.display.HTML object>"
      ]
     },
     "metadata": {},
     "output_type": "display_data"
    },
    {
     "name": "stdout",
     "output_type": "stream",
     "text": [
      "Attempting guided sampling...\n"
     ]
    },
    {
     "name": "stderr",
     "output_type": "stream",
     "text": [
      "100%|██████████| 220/220 [07:19<00:00,  2.00s/it]"
     ]
    },
    {
     "name": "stdout",
     "output_type": "stream",
     "text": [
      "Saved synthetic data to: ../data/synthetic/great/cirrhosis_great.csv\n",
      "Execution Time: 158.22 seconds\n",
      "Peak Memory Usage: 313.21 MB\n",
      " Generating with RTF\n",
      "Initializing REaLTabFormer model...\n",
      "Starting training...\n",
      "Computing the sensitivity threshold...\n",
      "Using parallel computation!!!\n"
     ]
    },
    {
     "name": "stderr",
     "output_type": "stream",
     "text": [
      "\n"
     ]
    },
    {
     "data": {
      "application/vnd.jupyter.widget-view+json": {
       "model_id": "5d658977e06b4f9488eb5c1955328f07",
       "version_major": 2,
       "version_minor": 0
      },
      "text/plain": [
       "Bootstrap round:   0%|          | 0/10 [00:00<?, ?it/s]"
      ]
     },
     "metadata": {},
     "output_type": "display_data"
    },
    {
     "name": "stdout",
     "output_type": "stream",
     "text": [
      "Sensitivity threshold summary:\n",
      "count    10.000000\n",
      "mean     -0.001944\n",
      "std       0.015552\n",
      "min      -0.013889\n",
      "25%      -0.012500\n",
      "50%      -0.004167\n",
      "75%      -0.000694\n",
      "max       0.038889\n",
      "dtype: float64\n",
      "Sensitivity threshold: 0.02263888888888885 qt_max: 0.05\n"
     ]
    },
    {
     "data": {
      "application/vnd.jupyter.widget-view+json": {
       "model_id": "ba2bd2f865b74088b8638a8e56d0e7f2",
       "version_major": 2,
       "version_minor": 0
      },
      "text/plain": [
       "Map:   0%|          | 0/220 [00:00<?, ? examples/s]"
      ]
     },
     "metadata": {},
     "output_type": "display_data"
    },
    {
     "data": {
      "text/html": [
       "\n",
       "    <div>\n",
       "      \n",
       "      <progress value='5' max='5' style='width:300px; height:20px; vertical-align: middle;'></progress>\n",
       "      [5/5 00:03, Epoch 5/5]\n",
       "    </div>\n",
       "    <table border=\"1\" class=\"dataframe\">\n",
       "  <thead>\n",
       " <tr style=\"text-align: left;\">\n",
       "      <th>Step</th>\n",
       "      <th>Training Loss</th>\n",
       "    </tr>\n",
       "  </thead>\n",
       "  <tbody>\n",
       "  </tbody>\n",
       "</table><p>"
      ],
      "text/plain": [
       "<IPython.core.display.HTML object>"
      ]
     },
     "metadata": {},
     "output_type": "display_data"
    },
    {
     "data": {
      "application/vnd.jupyter.widget-view+json": {
       "model_id": "eadcbfdc54fe4412b9a7c7905b4cb041",
       "version_major": 2,
       "version_minor": 0
      },
      "text/plain": [
       "  0%|          | 0/108 [00:00<?, ?it/s]"
      ]
     },
     "metadata": {},
     "output_type": "display_data"
    },
    {
     "name": "stdout",
     "output_type": "stream",
     "text": [
      "Generated 0 invalid samples out of total 128 samples generated. Sampling efficiency is: 100.0000%\n"
     ]
    },
    {
     "name": "stderr",
     "output_type": "stream",
     "text": [
      "There were missing keys in the checkpoint model loaded: ['lm_head.weight'].\n"
     ]
    },
    {
     "name": "stdout",
     "output_type": "stream",
     "text": [
      "Critic round: 5,                     sensitivity_threshold: 0.02263888888888885,                         val_sensitivity: 0.002592592592592591,                             val_sensitivities: [-0.005555555555555557, -0.0027777777777777783, -0.019444444444444445, -0.0027777777777777783, 0.011111111111111106, 0.03611111111111111, -0.008333333333333335, 0.005555555555555553, 0.013888888888888888, 0.0027777777777777766, -0.0027777777777777783, -0.019444444444444445, -0.019444444444444445, 0.03888888888888889, 0.011111111111111106]\n"
     ]
    },
    {
     "data": {
      "text/html": [
       "\n",
       "    <div>\n",
       "      \n",
       "      <progress value='10' max='10' style='width:300px; height:20px; vertical-align: middle;'></progress>\n",
       "      [10/10 00:04, Epoch 10/10]\n",
       "    </div>\n",
       "    <table border=\"1\" class=\"dataframe\">\n",
       "  <thead>\n",
       " <tr style=\"text-align: left;\">\n",
       "      <th>Step</th>\n",
       "      <th>Training Loss</th>\n",
       "    </tr>\n",
       "  </thead>\n",
       "  <tbody>\n",
       "  </tbody>\n",
       "</table><p>"
      ],
      "text/plain": [
       "<IPython.core.display.HTML object>"
      ]
     },
     "metadata": {},
     "output_type": "display_data"
    },
    {
     "data": {
      "application/vnd.jupyter.widget-view+json": {
       "model_id": "5eb1f99a555447cc9ac6c5e528db6c35",
       "version_major": 2,
       "version_minor": 0
      },
      "text/plain": [
       "  0%|          | 0/108 [00:00<?, ?it/s]"
      ]
     },
     "metadata": {},
     "output_type": "display_data"
    },
    {
     "name": "stdout",
     "output_type": "stream",
     "text": [
      "Generated 0 invalid samples out of total 128 samples generated. Sampling efficiency is: 100.0000%\n"
     ]
    },
    {
     "name": "stderr",
     "output_type": "stream",
     "text": [
      "There were missing keys in the checkpoint model loaded: ['lm_head.weight'].\n"
     ]
    },
    {
     "name": "stdout",
     "output_type": "stream",
     "text": [
      "Critic round: 10,                     sensitivity_threshold: 0.02263888888888885,                         val_sensitivity: 0.015555555555555555,                             val_sensitivities: [0.02222222222222222, -0.0055555555555555575, -0.008333333333333335, 0.030555555555555558, 0.01111111111111111, 0.027777777777777776, -0.01388888888888889, -0.0027777777777777783, 0.044444444444444446, 0.005555555555555553, 0.01111111111111111, 0.016666666666666663, 0.008333333333333333, 0.07222222222222222, 0.013888888888888888]\n"
     ]
    },
    {
     "data": {
      "text/html": [
       "\n",
       "    <div>\n",
       "      \n",
       "      <progress value='15' max='15' style='width:300px; height:20px; vertical-align: middle;'></progress>\n",
       "      [15/15 00:03, Epoch 15/15]\n",
       "    </div>\n",
       "    <table border=\"1\" class=\"dataframe\">\n",
       "  <thead>\n",
       " <tr style=\"text-align: left;\">\n",
       "      <th>Step</th>\n",
       "      <th>Training Loss</th>\n",
       "    </tr>\n",
       "  </thead>\n",
       "  <tbody>\n",
       "  </tbody>\n",
       "</table><p>"
      ],
      "text/plain": [
       "<IPython.core.display.HTML object>"
      ]
     },
     "metadata": {},
     "output_type": "display_data"
    },
    {
     "data": {
      "application/vnd.jupyter.widget-view+json": {
       "model_id": "cf6d28ca320a4c6e947ca2b51f9011e8",
       "version_major": 2,
       "version_minor": 0
      },
      "text/plain": [
       "  0%|          | 0/108 [00:00<?, ?it/s]"
      ]
     },
     "metadata": {},
     "output_type": "display_data"
    },
    {
     "name": "stdout",
     "output_type": "stream",
     "text": [
      "Generated 0 invalid samples out of total 128 samples generated. Sampling efficiency is: 100.0000%\n"
     ]
    },
    {
     "name": "stderr",
     "output_type": "stream",
     "text": [
      "There were missing keys in the checkpoint model loaded: ['lm_head.weight'].\n"
     ]
    },
    {
     "name": "stdout",
     "output_type": "stream",
     "text": [
      "Critic round: 15,                     sensitivity_threshold: 0.02263888888888885,                         val_sensitivity: 0.022222222222222223,                             val_sensitivities: [0.019444444444444445, 0.013888888888888886, -0.008333333333333335, 0.025, 0.016666666666666663, 0.025, 0.013888888888888888, 0.041666666666666664, 0.058333333333333334, 0.03333333333333333, -0.008333333333333335, -0.002777777777777779, 0.008333333333333333, 0.06944444444444445, 0.027777777777777776]\n"
     ]
    },
    {
     "data": {
      "text/html": [
       "\n",
       "    <div>\n",
       "      \n",
       "      <progress value='20' max='20' style='width:300px; height:20px; vertical-align: middle;'></progress>\n",
       "      [20/20 00:03, Epoch 20/20]\n",
       "    </div>\n",
       "    <table border=\"1\" class=\"dataframe\">\n",
       "  <thead>\n",
       " <tr style=\"text-align: left;\">\n",
       "      <th>Step</th>\n",
       "      <th>Training Loss</th>\n",
       "    </tr>\n",
       "  </thead>\n",
       "  <tbody>\n",
       "  </tbody>\n",
       "</table><p>"
      ],
      "text/plain": [
       "<IPython.core.display.HTML object>"
      ]
     },
     "metadata": {},
     "output_type": "display_data"
    },
    {
     "data": {
      "application/vnd.jupyter.widget-view+json": {
       "model_id": "d4da007b6e6443458c6028bd8376a58c",
       "version_major": 2,
       "version_minor": 0
      },
      "text/plain": [
       "  0%|          | 0/108 [00:00<?, ?it/s]"
      ]
     },
     "metadata": {},
     "output_type": "display_data"
    },
    {
     "name": "stdout",
     "output_type": "stream",
     "text": [
      "Generated 0 invalid samples out of total 128 samples generated. Sampling efficiency is: 100.0000%\n",
      "Critic round: 20,                     sensitivity_threshold: 0.02263888888888885,                         val_sensitivity: 0.012592592592592591,                             val_sensitivities: [0.002777777777777775, -0.008333333333333335, -0.01388888888888889, 0.02222222222222222, 0.013888888888888888, 0.047222222222222214, 0.024999999999999998, 0.02222222222222222, 0.02222222222222222, -0.008333333333333335, 0.0027777777777777775, 0.030555555555555558, -0.008333333333333335, 0.03333333333333333, 0.005555555555555553]\n",
      "Generating synthetic data...\n"
     ]
    },
    {
     "data": {
      "application/vnd.jupyter.widget-view+json": {
       "model_id": "104c0ef6d977489f845592ceac537fa8",
       "version_major": 2,
       "version_minor": 0
      },
      "text/plain": [
       "  0%|          | 0/220 [00:00<?, ?it/s]"
      ]
     },
     "metadata": {},
     "output_type": "display_data"
    },
    {
     "name": "stdout",
     "output_type": "stream",
     "text": [
      "Generated 0 invalid samples out of total 256 samples generated. Sampling efficiency is: 100.0000%\n",
      "Saved synthetic data to: ../data/synthetic/rtf/cirrhosis_rtf.csv\n",
      "Execution Time: 37.53 seconds\n",
      "Peak Memory Usage: 167.52 MB\n"
     ]
    }
   ],
   "source": [
    "# Run each generator\n",
    "for name, generator in generators.items():\n",
    "    print(f\" Generating with {name.upper()}\")\n",
    "    if name == \"ctabgan\":\n",
    "        config = ctabgan_configs.get(dataset_name.lower())\n",
    "        if config is None:\n",
    "            print(f\"No CTABGAN config defined for dataset: {dataset_name}\")\n",
    "            continue\n",
    "        generator_instance = generator()  # initialize via lambda\n",
    "        synth_data, stats = generator_instance.fit_and_generate(df, dataset_name=\"cirrhosis\", ctabgan_config=config)\n",
    "    else:\n",
    "        synth_data, stats = generator.fit_and_generate(df, dataset_name=\"cirrhosis\")\n",
    "\n",
    "    # Append to log\n",
    "    log_rows.append({\n",
    "        \"model\": name,\n",
    "        \"execution_time_sec\": stats[\"execution_time_sec\"],\n",
    "        \"peak_memory_mb\": stats[\"peak_memory_mb\"],\n",
    "        \"n_samples\": len(synth_data)\n",
    "    })"
   ]
  },
  {
   "cell_type": "code",
   "execution_count": 20,
   "id": "2c4ad27a",
   "metadata": {},
   "outputs": [
    {
     "name": "stdout",
     "output_type": "stream",
     "text": [
      " Log saved to ../results/logs/synthetic_generation_log.csv\n"
     ]
    }
   ],
   "source": [
    "# Save log to CSV\n",
    "log_df = pd.DataFrame(log_rows)\n",
    "log_df.to_csv(log_path, index=False)\n",
    "print(f\" Log saved to {log_path}\")"
   ]
  },
  {
   "cell_type": "code",
   "execution_count": 26,
   "id": "c87ec7d9-68eb-42d4-a0b2-f2d001236f9e",
   "metadata": {},
   "outputs": [
    {
     "data": {
      "text/plain": [
       "'/home/jovyan/DataGen/Github/notebooks'"
      ]
     },
     "execution_count": 26,
     "metadata": {},
     "output_type": "execute_result"
    }
   ],
   "source": [
    "import os\n",
    "os.getcwd()\n"
   ]
  },
  {
   "cell_type": "code",
   "execution_count": null,
   "id": "5ceec180-6927-466e-9c6a-55174258f3bd",
   "metadata": {},
   "outputs": [],
   "source": [
    "import shutil\n",
    "\n",
    "# Folder you want to download\n",
    "folder_to_zip = '/home/jovyan/DataGen/Github'  # change this to your folder name\n",
    "output_filename = 'github'  # this will create my_folder.zip\n",
    "\n",
    "# Create the zip file\n",
    "shutil.make_archive(output_filename, 'zip', folder_to_zip)\n",
    "print(f\"Zipped {folder_to_zip} as {output_filename}.zip\")\n"
   ]
  },
  {
   "cell_type": "code",
   "execution_count": null,
   "id": "2b3957b6-707b-4544-8776-f39ab5873765",
   "metadata": {},
   "outputs": [],
   "source": []
  }
 ],
 "metadata": {
  "kernelspec": {
   "display_name": "Python (realtab)",
   "language": "python",
   "name": "paper-realtab"
  },
  "language_info": {
   "codemirror_mode": {
    "name": "ipython",
    "version": 3
   },
   "file_extension": ".py",
   "mimetype": "text/x-python",
   "name": "python",
   "nbconvert_exporter": "python",
   "pygments_lexer": "ipython3",
   "version": "3.11.12"
  }
 },
 "nbformat": 4,
 "nbformat_minor": 5
}
