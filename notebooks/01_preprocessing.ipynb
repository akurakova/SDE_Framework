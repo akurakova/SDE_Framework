{
 "cells": [
  {
   "cell_type": "code",
   "execution_count": 1,
   "id": "07dcd374-5c6b-479a-9032-a793713d86cd",
   "metadata": {},
   "outputs": [],
   "source": [
    "import sys\n",
    "import os\n",
    "sys.path.append(os.path.abspath(\"..\"))"
   ]
  },
  {
   "cell_type": "code",
   "execution_count": 2,
   "id": "60e94237-c59e-4106-9c26-fbbffaca62a0",
   "metadata": {},
   "outputs": [
    {
     "name": "stdout",
     "output_type": "stream",
     "text": [
      "Saved to:\n",
      " - ../data/processed/diabetes_train.csv\n",
      " - ../data/processed/diabetes_test.csv\n"
     ]
    },
    {
     "data": {
      "text/plain": [
       "(PosixPath('../data/processed/diabetes_train.csv'),\n",
       " PosixPath('../data/processed/diabetes_test.csv'))"
      ]
     },
     "execution_count": 2,
     "metadata": {},
     "output_type": "execute_result"
    }
   ],
   "source": [
    "from src.utils.preprocess_and_split import preprocess_and_split\n",
    "import pandas as pd\n",
    "\n",
    "df = pd.read_csv(\"../data/raw/diabetes.csv\")\n",
    "preprocess_and_split(df, dataset_name=\"diabetes\", project_root=\"..\")\n"
   ]
  },
  {
   "cell_type": "code",
   "execution_count": 3,
   "id": "307e4fec-624e-4ed7-9991-55d85ca5c7d7",
   "metadata": {},
   "outputs": [
    {
     "name": "stdout",
     "output_type": "stream",
     "text": [
      "Saved to:\n",
      " - ../data/processed/stroke_train.csv\n",
      " - ../data/processed/stroke_test.csv\n"
     ]
    },
    {
     "data": {
      "text/plain": [
       "(PosixPath('../data/processed/stroke_train.csv'),\n",
       " PosixPath('../data/processed/stroke_test.csv'))"
      ]
     },
     "execution_count": 3,
     "metadata": {},
     "output_type": "execute_result"
    }
   ],
   "source": [
    "df = pd.read_csv(\"../data/raw/stroke.csv\")\n",
    "preprocess_and_split(df, dataset_name=\"stroke\", project_root=\"..\")"
   ]
  },
  {
   "cell_type": "code",
   "execution_count": 4,
   "id": "923253d9-3923-4a76-b10a-1004a7176e44",
   "metadata": {},
   "outputs": [
    {
     "name": "stdout",
     "output_type": "stream",
     "text": [
      "Saved to:\n",
      " - ../data/processed/cirrhosis_train.csv\n",
      " - ../data/processed/cirrhosis_test.csv\n"
     ]
    },
    {
     "data": {
      "text/plain": [
       "(PosixPath('../data/processed/cirrhosis_train.csv'),\n",
       " PosixPath('../data/processed/cirrhosis_test.csv'))"
      ]
     },
     "execution_count": 4,
     "metadata": {},
     "output_type": "execute_result"
    }
   ],
   "source": [
    "df = pd.read_csv(\"../data/raw/cirrhosis.csv\")\n",
    "preprocess_and_split(df, dataset_name=\"cirrhosis\", project_root=\"..\")"
   ]
  },
  {
   "cell_type": "code",
   "execution_count": null,
   "id": "3ef63626-ba07-4092-81c9-46a98cd3c40b",
   "metadata": {},
   "outputs": [],
   "source": []
  }
 ],
 "metadata": {
  "kernelspec": {
   "display_name": "Python 3 (ipykernel)",
   "language": "python",
   "name": "python3"
  },
  "language_info": {
   "codemirror_mode": {
    "name": "ipython",
    "version": 3
   },
   "file_extension": ".py",
   "mimetype": "text/x-python",
   "name": "python",
   "nbconvert_exporter": "python",
   "pygments_lexer": "ipython3",
   "version": "3.11.9"
  }
 },
 "nbformat": 4,
 "nbformat_minor": 5
}
