{
 "cells": [
  {
   "cell_type": "markdown",
   "id": "ae2bd148",
   "metadata": {},
   "source": [
    "# Synthetic Data Generation: All Models\n",
    "This notebook loads train data and runs each generator, saving synthetic datasets and logging stats."
   ]
  },
  {
   "cell_type": "code",
   "execution_count": 4,
   "id": "78214802-280c-40df-8953-13eefcad4ffe",
   "metadata": {},
   "outputs": [
    {
     "name": "stdout",
     "output_type": "stream",
     "text": [
      "Collecting sdv\n",
      "  Downloading sdv-1.22.1-py3-none-any.whl.metadata (14 kB)\n",
      "Collecting boto3<2.0.0,>=1.28 (from sdv)\n",
      "  Downloading boto3-1.38.36-py3-none-any.whl.metadata (6.6 kB)\n",
      "Collecting botocore<2.0.0,>=1.31 (from sdv)\n",
      "  Downloading botocore-1.38.36-py3-none-any.whl.metadata (5.7 kB)\n",
      "Requirement already satisfied: cloudpickle>=2.1.0 in /opt/conda/lib/python3.11/site-packages (from sdv) (3.0.0)\n",
      "Collecting graphviz>=0.13.2 (from sdv)\n",
      "  Using cached graphviz-0.20.3-py3-none-any.whl.metadata (12 kB)\n",
      "Requirement already satisfied: numpy>=1.24.0 in /opt/conda/lib/python3.11/site-packages (from sdv) (1.26.4)\n",
      "Requirement already satisfied: pandas>=1.5.0 in /opt/conda/lib/python3.11/site-packages (from sdv) (2.2.2)\n",
      "Requirement already satisfied: tqdm>=4.29 in /opt/conda/lib/python3.11/site-packages (from sdv) (4.66.4)\n",
      "Collecting copulas>=0.12.1 (from sdv)\n",
      "  Using cached copulas-0.12.2-py3-none-any.whl.metadata (9.4 kB)\n",
      "Collecting ctgan>=0.11.0 (from sdv)\n",
      "  Using cached ctgan-0.11.0-py3-none-any.whl.metadata (10 kB)\n",
      "Collecting deepecho>=0.7.0 (from sdv)\n",
      "  Using cached deepecho-0.7.0-py3-none-any.whl.metadata (10 kB)\n",
      "Collecting rdt>=1.17.0 (from sdv)\n",
      "  Downloading rdt-1.17.0-py3-none-any.whl.metadata (10 kB)\n",
      "Collecting sdmetrics>=0.21.0 (from sdv)\n",
      "  Downloading sdmetrics-0.21.0-py3-none-any.whl.metadata (9.4 kB)\n",
      "Requirement already satisfied: platformdirs>=4.0 in /opt/conda/lib/python3.11/site-packages (from sdv) (4.2.2)\n",
      "Requirement already satisfied: pyyaml>=6.0.1 in /opt/conda/lib/python3.11/site-packages (from sdv) (6.0.1)\n",
      "Collecting jmespath<2.0.0,>=0.7.1 (from boto3<2.0.0,>=1.28->sdv)\n",
      "  Using cached jmespath-1.0.1-py3-none-any.whl.metadata (7.6 kB)\n",
      "Collecting s3transfer<0.14.0,>=0.13.0 (from boto3<2.0.0,>=1.28->sdv)\n",
      "  Downloading s3transfer-0.13.0-py3-none-any.whl.metadata (1.7 kB)\n",
      "Requirement already satisfied: python-dateutil<3.0.0,>=2.1 in /opt/conda/lib/python3.11/site-packages (from botocore<2.0.0,>=1.31->sdv) (2.9.0)\n",
      "Requirement already satisfied: urllib3!=2.2.0,<3,>=1.25.4 in /opt/conda/lib/python3.11/site-packages (from botocore<2.0.0,>=1.31->sdv) (2.2.2)\n",
      "Collecting plotly>=5.10.0 (from copulas>=0.12.1->sdv)\n",
      "  Downloading plotly-6.1.2-py3-none-any.whl.metadata (6.9 kB)\n",
      "Requirement already satisfied: scipy>=1.9.2 in /opt/conda/lib/python3.11/site-packages (from copulas>=0.12.1->sdv) (1.14.0)\n",
      "Collecting torch>=2.0.0 (from ctgan>=0.11.0->sdv)\n",
      "  Downloading torch-2.7.1-cp311-cp311-manylinux_2_28_x86_64.whl.metadata (29 kB)\n",
      "Requirement already satisfied: pytz>=2020.1 in /opt/conda/lib/python3.11/site-packages (from pandas>=1.5.0->sdv) (2024.1)\n",
      "Requirement already satisfied: tzdata>=2022.7 in /opt/conda/lib/python3.11/site-packages (from pandas>=1.5.0->sdv) (2024.1)\n",
      "Requirement already satisfied: scikit-learn>=1.1.3 in /opt/conda/lib/python3.11/site-packages (from rdt>=1.17.0->sdv) (1.5.1)\n",
      "Collecting Faker>=17 (from rdt>=1.17.0->sdv)\n",
      "  Downloading faker-37.4.0-py3-none-any.whl.metadata (15 kB)\n",
      "Collecting narwhals>=1.15.1 (from plotly>=5.10.0->copulas>=0.12.1->sdv)\n",
      "  Downloading narwhals-1.42.1-py3-none-any.whl.metadata (11 kB)\n",
      "Requirement already satisfied: packaging in /opt/conda/lib/python3.11/site-packages (from plotly>=5.10.0->copulas>=0.12.1->sdv) (24.1)\n",
      "Requirement already satisfied: six>=1.5 in /opt/conda/lib/python3.11/site-packages (from python-dateutil<3.0.0,>=2.1->botocore<2.0.0,>=1.31->sdv) (1.16.0)\n",
      "Requirement already satisfied: joblib>=1.2.0 in /opt/conda/lib/python3.11/site-packages (from scikit-learn>=1.1.3->rdt>=1.17.0->sdv) (1.4.2)\n",
      "Requirement already satisfied: threadpoolctl>=3.1.0 in /opt/conda/lib/python3.11/site-packages (from scikit-learn>=1.1.3->rdt>=1.17.0->sdv) (3.5.0)\n",
      "Collecting filelock (from torch>=2.0.0->ctgan>=0.11.0->sdv)\n",
      "  Using cached filelock-3.18.0-py3-none-any.whl.metadata (2.9 kB)\n",
      "Requirement already satisfied: typing-extensions>=4.10.0 in /opt/conda/lib/python3.11/site-packages (from torch>=2.0.0->ctgan>=0.11.0->sdv) (4.12.2)\n",
      "Collecting sympy>=1.13.3 (from torch>=2.0.0->ctgan>=0.11.0->sdv)\n",
      "  Using cached sympy-1.14.0-py3-none-any.whl.metadata (12 kB)\n",
      "Requirement already satisfied: networkx in /opt/conda/lib/python3.11/site-packages (from torch>=2.0.0->ctgan>=0.11.0->sdv) (3.3)\n",
      "Requirement already satisfied: jinja2 in /opt/conda/lib/python3.11/site-packages (from torch>=2.0.0->ctgan>=0.11.0->sdv) (3.1.4)\n",
      "Requirement already satisfied: fsspec in /opt/conda/lib/python3.11/site-packages (from torch>=2.0.0->ctgan>=0.11.0->sdv) (2024.6.1)\n",
      "Collecting nvidia-cuda-nvrtc-cu12==12.6.77 (from torch>=2.0.0->ctgan>=0.11.0->sdv)\n",
      "  Using cached nvidia_cuda_nvrtc_cu12-12.6.77-py3-none-manylinux2014_x86_64.whl.metadata (1.5 kB)\n",
      "Collecting nvidia-cuda-runtime-cu12==12.6.77 (from torch>=2.0.0->ctgan>=0.11.0->sdv)\n",
      "  Using cached nvidia_cuda_runtime_cu12-12.6.77-py3-none-manylinux2014_x86_64.manylinux_2_17_x86_64.whl.metadata (1.5 kB)\n",
      "Collecting nvidia-cuda-cupti-cu12==12.6.80 (from torch>=2.0.0->ctgan>=0.11.0->sdv)\n",
      "  Using cached nvidia_cuda_cupti_cu12-12.6.80-py3-none-manylinux2014_x86_64.manylinux_2_17_x86_64.whl.metadata (1.6 kB)\n",
      "Collecting nvidia-cudnn-cu12==9.5.1.17 (from torch>=2.0.0->ctgan>=0.11.0->sdv)\n",
      "  Using cached nvidia_cudnn_cu12-9.5.1.17-py3-none-manylinux_2_28_x86_64.whl.metadata (1.6 kB)\n",
      "Collecting nvidia-cublas-cu12==12.6.4.1 (from torch>=2.0.0->ctgan>=0.11.0->sdv)\n",
      "  Using cached nvidia_cublas_cu12-12.6.4.1-py3-none-manylinux2014_x86_64.manylinux_2_17_x86_64.whl.metadata (1.5 kB)\n",
      "Collecting nvidia-cufft-cu12==11.3.0.4 (from torch>=2.0.0->ctgan>=0.11.0->sdv)\n",
      "  Using cached nvidia_cufft_cu12-11.3.0.4-py3-none-manylinux2014_x86_64.manylinux_2_17_x86_64.whl.metadata (1.5 kB)\n",
      "Collecting nvidia-curand-cu12==10.3.7.77 (from torch>=2.0.0->ctgan>=0.11.0->sdv)\n",
      "  Using cached nvidia_curand_cu12-10.3.7.77-py3-none-manylinux2014_x86_64.manylinux_2_17_x86_64.whl.metadata (1.5 kB)\n",
      "Collecting nvidia-cusolver-cu12==11.7.1.2 (from torch>=2.0.0->ctgan>=0.11.0->sdv)\n",
      "  Using cached nvidia_cusolver_cu12-11.7.1.2-py3-none-manylinux2014_x86_64.manylinux_2_17_x86_64.whl.metadata (1.6 kB)\n",
      "Collecting nvidia-cusparse-cu12==12.5.4.2 (from torch>=2.0.0->ctgan>=0.11.0->sdv)\n",
      "  Using cached nvidia_cusparse_cu12-12.5.4.2-py3-none-manylinux2014_x86_64.manylinux_2_17_x86_64.whl.metadata (1.6 kB)\n",
      "Collecting nvidia-cusparselt-cu12==0.6.3 (from torch>=2.0.0->ctgan>=0.11.0->sdv)\n",
      "  Using cached nvidia_cusparselt_cu12-0.6.3-py3-none-manylinux2014_x86_64.whl.metadata (6.8 kB)\n",
      "Collecting nvidia-nccl-cu12==2.26.2 (from torch>=2.0.0->ctgan>=0.11.0->sdv)\n",
      "  Using cached nvidia_nccl_cu12-2.26.2-py3-none-manylinux2014_x86_64.manylinux_2_17_x86_64.whl.metadata (2.0 kB)\n",
      "Collecting nvidia-nvtx-cu12==12.6.77 (from torch>=2.0.0->ctgan>=0.11.0->sdv)\n",
      "  Using cached nvidia_nvtx_cu12-12.6.77-py3-none-manylinux2014_x86_64.manylinux_2_17_x86_64.whl.metadata (1.6 kB)\n",
      "Collecting nvidia-nvjitlink-cu12==12.6.85 (from torch>=2.0.0->ctgan>=0.11.0->sdv)\n",
      "  Using cached nvidia_nvjitlink_cu12-12.6.85-py3-none-manylinux2010_x86_64.manylinux_2_12_x86_64.whl.metadata (1.5 kB)\n",
      "Collecting nvidia-cufile-cu12==1.11.1.6 (from torch>=2.0.0->ctgan>=0.11.0->sdv)\n",
      "  Using cached nvidia_cufile_cu12-1.11.1.6-py3-none-manylinux2014_x86_64.manylinux_2_17_x86_64.whl.metadata (1.5 kB)\n",
      "Collecting triton==3.3.1 (from torch>=2.0.0->ctgan>=0.11.0->sdv)\n",
      "  Downloading triton-3.3.1-cp311-cp311-manylinux_2_27_x86_64.manylinux_2_28_x86_64.whl.metadata (1.5 kB)\n",
      "Requirement already satisfied: setuptools>=40.8.0 in /opt/conda/lib/python3.11/site-packages (from triton==3.3.1->torch>=2.0.0->ctgan>=0.11.0->sdv) (71.0.4)\n",
      "Requirement already satisfied: mpmath<1.4,>=1.1.0 in /opt/conda/lib/python3.11/site-packages (from sympy>=1.13.3->torch>=2.0.0->ctgan>=0.11.0->sdv) (1.3.0)\n",
      "Requirement already satisfied: MarkupSafe>=2.0 in /opt/conda/lib/python3.11/site-packages (from jinja2->torch>=2.0.0->ctgan>=0.11.0->sdv) (2.1.5)\n",
      "Downloading sdv-1.22.1-py3-none-any.whl (180 kB)\n",
      "\u001b[2K   \u001b[90m━━━━━━━━━━━━━━━━━━━━━━━━━━━━━━━━━━━━━━━\u001b[0m \u001b[32m180.2/180.2 kB\u001b[0m \u001b[31m988.8 kB/s\u001b[0m eta \u001b[36m0:00:00\u001b[0ma \u001b[36m0:00:01\u001b[0m\n",
      "\u001b[?25hDownloading boto3-1.38.36-py3-none-any.whl (139 kB)\n",
      "\u001b[2K   \u001b[90m━━━━━━━━━━━━━━━━━━━━━━━━━━━━━━━━━━━━━━━\u001b[0m \u001b[32m139.9/139.9 kB\u001b[0m \u001b[31m842.6 kB/s\u001b[0m eta \u001b[36m0:00:00\u001b[0ma \u001b[36m0:00:01\u001b[0m\n",
      "\u001b[?25hDownloading botocore-1.38.36-py3-none-any.whl (13.6 MB)\n",
      "\u001b[2K   \u001b[90m━━━━━━━━━━━━━━━━━━━━━━━━━━━━━━━━━━━━━━━━\u001b[0m \u001b[32m13.6/13.6 MB\u001b[0m \u001b[31m54.3 MB/s\u001b[0m eta \u001b[36m0:00:00\u001b[0m:00:01\u001b[0m00:01\u001b[0m\n",
      "\u001b[?25hUsing cached copulas-0.12.2-py3-none-any.whl (52 kB)\n",
      "Using cached ctgan-0.11.0-py3-none-any.whl (24 kB)\n",
      "Using cached deepecho-0.7.0-py3-none-any.whl (27 kB)\n",
      "Using cached graphviz-0.20.3-py3-none-any.whl (47 kB)\n",
      "Downloading rdt-1.17.0-py3-none-any.whl (73 kB)\n",
      "\u001b[2K   \u001b[90m━━━━━━━━━━━━━━━━━━━━━━━━━━━━━━━━━━━━━━━━\u001b[0m \u001b[32m73.8/73.8 kB\u001b[0m \u001b[31m3.1 MB/s\u001b[0m eta \u001b[36m0:00:00\u001b[0m\n",
      "\u001b[?25hDownloading sdmetrics-0.21.0-py3-none-any.whl (193 kB)\n",
      "\u001b[2K   \u001b[90m━━━━━━━━━━━━━━━━━━━━━━━━━━━━━━━━━━━━━━━━\u001b[0m \u001b[32m193.5/193.5 kB\u001b[0m \u001b[31m8.0 MB/s\u001b[0m eta \u001b[36m0:00:00\u001b[0m\n",
      "\u001b[?25hDownloading faker-37.4.0-py3-none-any.whl (1.9 MB)\n",
      "\u001b[2K   \u001b[90m━━━━━━━━━━━━━━━━━━━━━━━━━━━━━━━━━━━━━━━━\u001b[0m \u001b[32m1.9/1.9 MB\u001b[0m \u001b[31m33.5 MB/s\u001b[0m eta \u001b[36m0:00:00\u001b[0m:00:01\u001b[0m\n",
      "\u001b[?25hUsing cached jmespath-1.0.1-py3-none-any.whl (20 kB)\n",
      "Downloading plotly-6.1.2-py3-none-any.whl (16.3 MB)\n",
      "\u001b[2K   \u001b[90m━━━━━━━━━━━━━━━━━━━━━━━━━━━━━━━━━━━━━━━━\u001b[0m \u001b[32m16.3/16.3 MB\u001b[0m \u001b[31m83.6 MB/s\u001b[0m eta \u001b[36m0:00:00\u001b[0m:00:01\u001b[0m00:01\u001b[0m\n",
      "\u001b[?25hDownloading s3transfer-0.13.0-py3-none-any.whl (85 kB)\n",
      "\u001b[2K   \u001b[90m━━━━━━━━━━━━━━━━━━━━━━━━━━━━━━━━━━━━━━━━\u001b[0m \u001b[32m85.2/85.2 kB\u001b[0m \u001b[31m4.3 MB/s\u001b[0m eta \u001b[36m0:00:00\u001b[0m\n",
      "\u001b[?25hDownloading torch-2.7.1-cp311-cp311-manylinux_2_28_x86_64.whl (821.2 MB)\n",
      "\u001b[2K   \u001b[90m━━━━━━━━━━━━━━━━━━━━━━━━━━━━━━━━━━━━━━━━\u001b[0m \u001b[32m821.2/821.2 MB\u001b[0m \u001b[31m5.0 MB/s\u001b[0m eta \u001b[36m0:00:00\u001b[0m:00:01\u001b[0m00:01\u001b[0m\n",
      "\u001b[?25hUsing cached nvidia_cublas_cu12-12.6.4.1-py3-none-manylinux2014_x86_64.manylinux_2_17_x86_64.whl (393.1 MB)\n",
      "Using cached nvidia_cuda_cupti_cu12-12.6.80-py3-none-manylinux2014_x86_64.manylinux_2_17_x86_64.whl (8.9 MB)\n",
      "Using cached nvidia_cuda_nvrtc_cu12-12.6.77-py3-none-manylinux2014_x86_64.whl (23.7 MB)\n",
      "Using cached nvidia_cuda_runtime_cu12-12.6.77-py3-none-manylinux2014_x86_64.manylinux_2_17_x86_64.whl (897 kB)\n",
      "Using cached nvidia_cudnn_cu12-9.5.1.17-py3-none-manylinux_2_28_x86_64.whl (571.0 MB)\n",
      "Using cached nvidia_cufft_cu12-11.3.0.4-py3-none-manylinux2014_x86_64.manylinux_2_17_x86_64.whl (200.2 MB)\n",
      "Using cached nvidia_cufile_cu12-1.11.1.6-py3-none-manylinux2014_x86_64.manylinux_2_17_x86_64.whl (1.1 MB)\n",
      "Using cached nvidia_curand_cu12-10.3.7.77-py3-none-manylinux2014_x86_64.manylinux_2_17_x86_64.whl (56.3 MB)\n",
      "Using cached nvidia_cusolver_cu12-11.7.1.2-py3-none-manylinux2014_x86_64.manylinux_2_17_x86_64.whl (158.2 MB)\n",
      "Using cached nvidia_cusparse_cu12-12.5.4.2-py3-none-manylinux2014_x86_64.manylinux_2_17_x86_64.whl (216.6 MB)\n",
      "Using cached nvidia_cusparselt_cu12-0.6.3-py3-none-manylinux2014_x86_64.whl (156.8 MB)\n",
      "Using cached nvidia_nccl_cu12-2.26.2-py3-none-manylinux2014_x86_64.manylinux_2_17_x86_64.whl (201.3 MB)\n",
      "Using cached nvidia_nvjitlink_cu12-12.6.85-py3-none-manylinux2010_x86_64.manylinux_2_12_x86_64.whl (19.7 MB)\n",
      "Using cached nvidia_nvtx_cu12-12.6.77-py3-none-manylinux2014_x86_64.manylinux_2_17_x86_64.whl (89 kB)\n",
      "Downloading triton-3.3.1-cp311-cp311-manylinux_2_27_x86_64.manylinux_2_28_x86_64.whl (155.7 MB)\n",
      "\u001b[2K   \u001b[90m━━━━━━━━━━━━━━━━━━━━━━━━━━━━━━━━━━━━━━━━\u001b[0m \u001b[32m155.7/155.7 MB\u001b[0m \u001b[31m15.2 MB/s\u001b[0m eta \u001b[36m0:00:00\u001b[0m00:01\u001b[0m00:01\u001b[0m\n",
      "\u001b[?25hDownloading narwhals-1.42.1-py3-none-any.whl (359 kB)\n",
      "\u001b[2K   \u001b[90m━━━━━━━━━━━━━━━━━━━━━━━━━━━━━━━━━━━━━━━━\u001b[0m \u001b[32m359.9/359.9 kB\u001b[0m \u001b[31m20.5 MB/s\u001b[0m eta \u001b[36m0:00:00\u001b[0m\n",
      "\u001b[?25hUsing cached sympy-1.14.0-py3-none-any.whl (6.3 MB)\n",
      "Using cached filelock-3.18.0-py3-none-any.whl (16 kB)\n",
      "Installing collected packages: nvidia-cusparselt-cu12, triton, sympy, nvidia-nvtx-cu12, nvidia-nvjitlink-cu12, nvidia-nccl-cu12, nvidia-curand-cu12, nvidia-cufile-cu12, nvidia-cuda-runtime-cu12, nvidia-cuda-nvrtc-cu12, nvidia-cuda-cupti-cu12, nvidia-cublas-cu12, narwhals, jmespath, graphviz, filelock, Faker, plotly, nvidia-cusparse-cu12, nvidia-cufft-cu12, nvidia-cudnn-cu12, botocore, s3transfer, rdt, nvidia-cusolver-cu12, copulas, torch, sdmetrics, boto3, deepecho, ctgan, sdv\n",
      "  Attempting uninstall: sympy\n",
      "    Found existing installation: sympy 1.13.0\n",
      "    Uninstalling sympy-1.13.0:\n",
      "      Successfully uninstalled sympy-1.13.0\n",
      "Successfully installed Faker-37.4.0 boto3-1.38.36 botocore-1.38.36 copulas-0.12.2 ctgan-0.11.0 deepecho-0.7.0 filelock-3.18.0 graphviz-0.20.3 jmespath-1.0.1 narwhals-1.42.1 nvidia-cublas-cu12-12.6.4.1 nvidia-cuda-cupti-cu12-12.6.80 nvidia-cuda-nvrtc-cu12-12.6.77 nvidia-cuda-runtime-cu12-12.6.77 nvidia-cudnn-cu12-9.5.1.17 nvidia-cufft-cu12-11.3.0.4 nvidia-cufile-cu12-1.11.1.6 nvidia-curand-cu12-10.3.7.77 nvidia-cusolver-cu12-11.7.1.2 nvidia-cusparse-cu12-12.5.4.2 nvidia-cusparselt-cu12-0.6.3 nvidia-nccl-cu12-2.26.2 nvidia-nvjitlink-cu12-12.6.85 nvidia-nvtx-cu12-12.6.77 plotly-6.1.2 rdt-1.17.0 s3transfer-0.13.0 sdmetrics-0.21.0 sdv-1.22.1 sympy-1.14.0 torch-2.7.1 triton-3.3.1\n"
     ]
    }
   ],
   "source": [
    "!pip install sdv"
   ]
  },
  {
   "cell_type": "code",
   "execution_count": 1,
   "id": "59bac24d-c146-45eb-90b0-ef9845fa5230",
   "metadata": {},
   "outputs": [
    {
     "data": {
      "text/plain": [
       "<torch._dynamo.eval_frame.DisableContext at 0x7efd62957ed0>"
      ]
     },
     "execution_count": 1,
     "metadata": {},
     "output_type": "execute_result"
    }
   ],
   "source": [
    "import torch._dynamo\n",
    "torch._dynamo.config.suppress_errors = True\n",
    "torch._dynamo.disable()\n"
   ]
  },
  {
   "cell_type": "code",
   "execution_count": 2,
   "id": "8c9317d7",
   "metadata": {},
   "outputs": [],
   "source": [
    "import sys\n",
    "import os\n",
    "sys.path.append(os.path.abspath(\"..\")) \n",
    "import pandas as pd\n",
    "from pathlib import Path\n",
    "from src.generators.tvae_generator import TVAESynthesizerWrapper\n",
    "from src.generators.ctgan_generator import CTGANSynthesizerWrapper\n",
    "from src.generators.ctabgan_generator import CTABGANSynthesizerWrapper\n",
    "from src.generators.great_generator import GREATSynthesizerWrapper\n",
    "from src.generators.rtf_generator import RTFGeneratorWrapper\n",
    "from src.utils.postprocess import match_format\n"
   ]
  },
  {
   "cell_type": "code",
   "execution_count": 3,
   "id": "3acb0f0f",
   "metadata": {},
   "outputs": [],
   "source": [
    "# Load preprocessed training data\n",
    "df = pd.read_csv(\"../data/processed/stroke_train.csv\")\n",
    "dataset_name = \"stroke\""
   ]
  },
  {
   "cell_type": "code",
   "execution_count": 4,
   "id": "67994025",
   "metadata": {},
   "outputs": [],
   "source": [
    "# Output log file\n",
    "log_path = Path(\"../results/logs/synthetic_generation_log_stroke.csv\")\n",
    "log_path.parent.mkdir(parents=True, exist_ok=True)"
   ]
  },
  {
   "cell_type": "code",
   "execution_count": 9,
   "id": "4856f00d",
   "metadata": {},
   "outputs": [],
   "source": [
    "# Define list of generators\n",
    "generators = {\n",
    "    #\"tvae\": TVAESynthesizerWrapper(output_dir=\"../data/synthetic/tvae\"),\n",
    "    #\"ctgan\": CTGANSynthesizerWrapper(output_dir=\"../data/synthetic/ctgan\"),\n",
    "    \"ctabgan\": lambda: CTABGANSynthesizerWrapper(output_dir=\"../data/synthetic/ctabgan\", num_experiments=1),\n",
    "    #\"great\": GREATSynthesizerWrapper(output_dir=\"../data/synthetic/great\"),\n",
    "    #\"rtf\": RTFGeneratorWrapper(output_dir=\"../data/synthetic/rtf\")\n",
    "    \n",
    "}"
   ]
  },
  {
   "cell_type": "code",
   "execution_count": 10,
   "id": "bfeaac73-9d18-4d56-9fea-ca3b60bfdef7",
   "metadata": {},
   "outputs": [],
   "source": [
    "# Defining CTABGAN config separately\n",
    "ctabgan_configs = {\n",
    "    \"diabetes\": {\n",
    "        \"raw_csv_path\": \"../data/processed/diabetes_train.csv\",\n",
    "        \"categorical_columns\": ['gender', 'hypertension', 'heart_disease', 'smoking_history', 'diabetes'],\n",
    "        \"log_columns\": [],\n",
    "        \"mixed_columns\": {},\n",
    "        \"general_columns\": ['bmi', 'HbA1c_level'],\n",
    "        \"non_categorical_columns\": [],\n",
    "        \"integer_columns\": ['age', 'blood_glucose_level'],\n",
    "        \"problem_type\": {\"Classification\": 'diabetes'}\n",
    "    },\n",
    "    \"stroke\": {\n",
    "        \"raw_csv_path\": \"../data/processed/stroke_train.csv\",\n",
    "        \"categorical_columns\": ['gender', 'hypertension', 'heart_disease', 'ever_married', 'work_type', 'Residence_type', 'smoking_status', 'stroke'],\n",
    "        \"log_columns\": [],\n",
    "        \"mixed_columns\": {},\n",
    "        \"general_columns\": ['bmi'],\n",
    "        \"non_categorical_columns\": [],\n",
    "        \"integer_columns\": ['age', 'avg_glucose_level'],\n",
    "        \"problem_type\": {\"Classification\": 'stroke'}\n",
    "    },\n",
    "    \"cirrhosis\": {\n",
    "        \"raw_csv_path\": \"../data/processed/cirrhosis_train.csv\",\n",
    "        \"categorical_columns\": ['Sex', 'Ascites', 'Hepatomegaly', 'Spiders', 'Edema', 'Drug', 'Status', 'Stage'],\n",
    "        \"log_columns\": [],\n",
    "        \"mixed_columns\": {},\n",
    "        \"general_columns\": ['Cholesterol', 'Albumin', 'Copper', 'Alk_Phos', 'SGOT', 'Tryglicerides', 'Platelets', 'Prothrombin'],\n",
    "        \"non_categorical_columns\": [],\n",
    "        \"integer_columns\": ['N_Days', 'Age'],\n",
    "        \"problem_type\": {\"Classification\": 'Status'}\n",
    "    }\n",
    "}\n"
   ]
  },
  {
   "cell_type": "code",
   "execution_count": 11,
   "id": "de45344f",
   "metadata": {},
   "outputs": [],
   "source": [
    "# Initialize logs\n",
    "log_rows = []"
   ]
  },
  {
   "cell_type": "code",
   "execution_count": 12,
   "id": "1e3c6156",
   "metadata": {},
   "outputs": [
    {
     "name": "stdout",
     "output_type": "stream",
     "text": [
      " Generating with CTABGAN\n",
      "Initializing CTABGAN synthesizer...\n",
      "Running experiment 1/1...\n"
     ]
    },
    {
     "name": "stderr",
     "output_type": "stream",
     "text": [
      "100%|██████████| 150/150 [02:44<00:00,  1.10s/it]"
     ]
    },
    {
     "name": "stdout",
     "output_type": "stream",
     "text": [
      "Finished training in 166.99334025382996  seconds.\n",
      "Saved: ../data/synthetic/ctabgan/stroke_ctabgan_0.csv\n",
      "Training time: 167.00 seconds\n",
      "Peak memory: 2.83 MB\n"
     ]
    },
    {
     "name": "stderr",
     "output_type": "stream",
     "text": [
      "\n"
     ]
    }
   ],
   "source": [
    "# Run each generator\n",
    "for name, generator in generators.items():\n",
    "    print(f\" Generating with {name.upper()}\")\n",
    "    if name == \"ctabgan\":\n",
    "        config = ctabgan_configs.get(dataset_name.lower())\n",
    "        if config is None:\n",
    "            print(f\"No CTABGAN config defined for dataset: {dataset_name}\")\n",
    "            continue\n",
    "        generator_instance = generator()  # initialize via lambda\n",
    "        synth_data, stats = generator_instance.fit_and_generate(df, dataset_name, ctabgan_config=config)\n",
    "    else:\n",
    "        synth_data, stats = generator.fit_and_generate(df, dataset_name)\n",
    "\n",
    "    # Append to log\n",
    "    log_rows.append({\n",
    "        \"model\": name,\n",
    "        \"execution_time_sec\": stats[\"execution_time_sec\"],\n",
    "        \"peak_memory_mb\": stats[\"peak_memory_mb\"],\n",
    "        \"n_samples\": len(synth_data)\n",
    "    })"
   ]
  },
  {
   "cell_type": "code",
   "execution_count": null,
   "id": "b1bc87e9-d14b-416d-889c-f7ce269cd4ec",
   "metadata": {},
   "outputs": [],
   "source": []
  },
  {
   "cell_type": "code",
   "execution_count": 20,
   "id": "2c4ad27a",
   "metadata": {},
   "outputs": [
    {
     "name": "stdout",
     "output_type": "stream",
     "text": [
      " Log saved to ../results/logs/synthetic_generation_log.csv\n"
     ]
    }
   ],
   "source": [
    "# Save log to CSV\n",
    "log_df = pd.DataFrame(log_rows)\n",
    "log_df.to_csv(log_path, index=False)\n",
    "print(f\" Log saved to {log_path}\")"
   ]
  },
  {
   "cell_type": "code",
   "execution_count": null,
   "id": "2b3957b6-707b-4544-8776-f39ab5873765",
   "metadata": {},
   "outputs": [],
   "source": []
  }
 ],
 "metadata": {
  "kernelspec": {
   "display_name": "Python (realtab)",
   "language": "python",
   "name": "paper-realtab"
  },
  "language_info": {
   "codemirror_mode": {
    "name": "ipython",
    "version": 3
   },
   "file_extension": ".py",
   "mimetype": "text/x-python",
   "name": "python",
   "nbconvert_exporter": "python",
   "pygments_lexer": "ipython3",
   "version": "3.11.12"
  }
 },
 "nbformat": 4,
 "nbformat_minor": 5
}
